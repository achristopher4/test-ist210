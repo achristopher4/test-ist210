{
  "nbformat": 4,
  "nbformat_minor": 0,
  "metadata": {
    "colab": {
      "name": "first-day.ipynb",
      "provenance": [],
      "authorship_tag": "ABX9TyOvx5Gw8RDlFM0tgHTvq1YO",
      "include_colab_link": true
    },
    "kernelspec": {
      "name": "python3",
      "display_name": "Python 3"
    }
  },
  "cells": [
    {
      "cell_type": "markdown",
      "metadata": {
        "id": "view-in-github",
        "colab_type": "text"
      },
      "source": [
        "<a href=\"https://colab.research.google.com/github/achristopher4/test-ist210/blob/master/Intro/first_day.ipynb\" target=\"_parent\"><img src=\"https://colab.research.google.com/assets/colab-badge.svg\" alt=\"Open In Colab\"/></a>"
      ]
    },
    {
      "cell_type": "code",
      "metadata": {
        "id": "T5HbqzP-zbOz",
        "colab_type": "code",
        "colab": {
          "base_uri": "https://localhost:8080/",
          "height": 34
        },
        "outputId": "a26262ec-172e-4081-d702-ae8da5f0f95e"
      },
      "source": [
        "2+2"
      ],
      "execution_count": 5,
      "outputs": [
        {
          "output_type": "execute_result",
          "data": {
            "text/plain": [
              "4"
            ]
          },
          "metadata": {
            "tags": []
          },
          "execution_count": 5
        }
      ]
    },
    {
      "cell_type": "code",
      "metadata": {
        "id": "N0-TkgW_z3I5",
        "colab_type": "code",
        "colab": {
          "base_uri": "https://localhost:8080/",
          "height": 34
        },
        "outputId": "b3f285fb-0922-483c-93e2-2b0ab818a689"
      },
      "source": [
        "2+3"
      ],
      "execution_count": 6,
      "outputs": [
        {
          "output_type": "execute_result",
          "data": {
            "text/plain": [
              "5"
            ]
          },
          "metadata": {
            "tags": []
          },
          "execution_count": 6
        }
      ]
    },
    {
      "cell_type": "markdown",
      "metadata": {
        "id": "1ZR9SGx9z8xK",
        "colab_type": "text"
      },
      "source": [
        "this is **bold**"
      ]
    },
    {
      "cell_type": "markdown",
      "metadata": {
        "id": "5MlTuiA60lRn",
        "colab_type": "text"
      },
      "source": [
        "# Header \n",
        "## Header\n",
        "### Header\n",
        "#### Header"
      ]
    },
    {
      "cell_type": "markdown",
      "metadata": {
        "id": "b_OOVcXJ4Zpd",
        "colab_type": "text"
      },
      "source": [
        "![alt text](https://raw.githubusercontent.com/achristopher4/test-ist210/master/Intro/437EFF28-E42A-483B-8891-F667F870B701.JPEG)"
      ]
    }
  ]
}